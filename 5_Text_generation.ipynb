{
  "nbformat": 4,
  "nbformat_minor": 0,
  "metadata": {
    "colab": {
      "name": "5. Text generation.ipynb",
      "provenance": [],
      "collapsed_sections": [],
      "machine_shape": "hm",
      "include_colab_link": true
    },
    "kernelspec": {
      "name": "python3",
      "display_name": "Python 3"
    }
  },
  "cells": [
    {
      "cell_type": "markdown",
      "metadata": {
        "id": "view-in-github",
        "colab_type": "text"
      },
      "source": [
        "<a href=\"https://colab.research.google.com/github/Northwind01/metaphors/blob/master/5_Text_generation.ipynb\" target=\"_parent\"><img src=\"https://colab.research.google.com/assets/colab-badge.svg\" alt=\"Open In Colab\"/></a>"
      ]
    },
    {
      "cell_type": "markdown",
      "metadata": {
        "id": "KfHIu5UNNxyr",
        "colab_type": "text"
      },
      "source": [
        "# Text generation"
      ]
    },
    {
      "cell_type": "markdown",
      "metadata": {
        "id": "HO3ljwUCPdif",
        "colab_type": "text"
      },
      "source": [
        "## 0. Set-up"
      ]
    },
    {
      "cell_type": "markdown",
      "metadata": {
        "id": "S5ez3PNwFTYw",
        "colab_type": "text"
      },
      "source": [
        "### Get the spaCy model"
      ]
    },
    {
      "cell_type": "code",
      "metadata": {
        "id": "BjM9s7xTML3-",
        "colab_type": "code",
        "colab": {}
      },
      "source": [
        "# Get the spaCy model for embeddings\n",
        "!python -m spacy download en_core_web_lg"
      ],
      "execution_count": 0,
      "outputs": []
    },
    {
      "cell_type": "markdown",
      "metadata": {
        "id": "dL0UOemTfjEk",
        "colab_type": "text"
      },
      "source": [
        "When done, restart the runtime"
      ]
    },
    {
      "cell_type": "markdown",
      "metadata": {
        "id": "OCejqcScPiHT",
        "colab_type": "text"
      },
      "source": [
        "### Imports"
      ]
    },
    {
      "cell_type": "code",
      "metadata": {
        "id": "G2ei2FEDN2B3",
        "colab_type": "code",
        "colab": {}
      },
      "source": [
        "# Keras\n",
        "from keras.models import Sequential, Model\n",
        "from keras.layers import Dense, Activation, Dropout\n",
        "from keras.layers import LSTM, Input, Bidirectional\n",
        "from keras.optimizers import Adam\n",
        "from keras.callbacks import EarlyStopping\n",
        "from keras.metrics import categorical_accuracy\n",
        "\n",
        "# Other libraries\n",
        "import spacy\n",
        "import numpy as np\n",
        "import random\n",
        "import sys\n",
        "import os\n",
        "import time\n",
        "import codecs\n",
        "import collections\n",
        "from six.moves import cPickle"
      ],
      "execution_count": 0,
      "outputs": []
    },
    {
      "cell_type": "markdown",
      "metadata": {
        "id": "KKXnTHVRfbJC",
        "colab_type": "text"
      },
      "source": [
        "### Load the spaCy model"
      ]
    },
    {
      "cell_type": "code",
      "metadata": {
        "id": "FEJ5iQKUMWPp",
        "colab_type": "code",
        "colab": {}
      },
      "source": [
        "# Load the model with much more vectors\n",
        "nlp = spacy.load('en_core_web_lg')"
      ],
      "execution_count": 0,
      "outputs": []
    },
    {
      "cell_type": "markdown",
      "metadata": {
        "id": "B_VWuULGPrqY",
        "colab_type": "text"
      },
      "source": [
        "### Get Google drive access"
      ]
    },
    {
      "cell_type": "code",
      "metadata": {
        "id": "ad9qpjzlPpX4",
        "colab_type": "code",
        "colab": {}
      },
      "source": [
        "from google.colab import drive\n",
        "drive.mount('/content/gdrive')"
      ],
      "execution_count": 0,
      "outputs": []
    },
    {
      "cell_type": "markdown",
      "metadata": {
        "id": "uuntwCvRP5KS",
        "colab_type": "text"
      },
      "source": [
        "### Set the paths"
      ]
    },
    {
      "cell_type": "code",
      "metadata": {
        "id": "dXUBsn2rPwkW",
        "colab_type": "code",
        "colab": {}
      },
      "source": [
        "root_path = 'gdrive/My Drive/metaphors/'\n",
        "pickle_dir = root_path + 'data/pickles/'\n",
        "preprocessing_dir = pickle_dir + 'pre_processing/'\n",
        "metaphors_dir = pickle_dir + 'extracted_metaphors/'"
      ],
      "execution_count": 0,
      "outputs": []
    },
    {
      "cell_type": "markdown",
      "metadata": {
        "id": "Mo99KL6aSFGy",
        "colab_type": "text"
      },
      "source": [
        "## 1. Exploring dependency information (INFO)"
      ]
    },
    {
      "cell_type": "code",
      "metadata": {
        "id": "F_ra5P2Ciuan",
        "colab_type": "code",
        "colab": {}
      },
      "source": [
        "# Get some data for checks\n",
        "path = os.path.join(preprocessing_dir, 'nlp_articles1000.pickle')\n",
        "with open(path, \"rb\") as input_file:\n",
        "  articles = cPickle.load(input_file)"
      ],
      "execution_count": 0,
      "outputs": []
    },
    {
      "cell_type": "code",
      "metadata": {
        "id": "dVqaBKEbQbwI",
        "colab_type": "code",
        "colab": {}
      },
      "source": [
        "#sent = list(nlp('I am afraid this spells trouble.').sents)[0]\n",
        "sent = list(articles[0].sents)[2]"
      ],
      "execution_count": 0,
      "outputs": []
    },
    {
      "cell_type": "code",
      "metadata": {
        "id": "4MTA8KhHZWzT",
        "colab_type": "code",
        "colab": {}
      },
      "source": [
        ""
      ],
      "execution_count": 0,
      "outputs": []
    },
    {
      "cell_type": "code",
      "metadata": {
        "id": "8EFMZ86vGubZ",
        "colab_type": "code",
        "colab": {}
      },
      "source": [
        ""
      ],
      "execution_count": 0,
      "outputs": []
    }
  ]
}