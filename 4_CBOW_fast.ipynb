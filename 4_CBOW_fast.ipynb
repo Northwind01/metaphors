{
  "nbformat": 4,
  "nbformat_minor": 0,
  "metadata": {
    "colab": {
      "name": "4. CBOW_fast.ipynb",
      "provenance": [],
      "collapsed_sections": [],
      "machine_shape": "hm",
      "include_colab_link": true
    },
    "kernelspec": {
      "name": "python3",
      "display_name": "Python 3"
    },
    "accelerator": "GPU"
  },
  "cells": [
    {
      "cell_type": "markdown",
      "metadata": {
        "id": "view-in-github",
        "colab_type": "text"
      },
      "source": [
        "<a href=\"https://colab.research.google.com/github/Northwind01/metaphors/blob/master/4_CBOW_fast.ipynb\" target=\"_parent\"><img src=\"https://colab.research.google.com/assets/colab-badge.svg\" alt=\"Open In Colab\"/></a>"
      ]
    },
    {
      "cell_type": "markdown",
      "metadata": {
        "id": "6ymkfHk1t_Ed",
        "colab_type": "text"
      },
      "source": [
        "[![Open In Colab](https://colab.research.google.com/assets/colab-badge.svg)](https://colab.research.google.com/github/googlecolab/colabtools/blob/master/notebooks/colab-github-demo.ipynb)"
      ]
    },
    {
      "cell_type": "markdown",
      "metadata": {
        "id": "KfHIu5UNNxyr",
        "colab_type": "text"
      },
      "source": [
        "# CBOW"
      ]
    },
    {
      "cell_type": "markdown",
      "metadata": {
        "id": "82qCVhhqQ3Sx",
        "colab_type": "text"
      },
      "source": [
        "https://www.kdnuggets.com/2018/04/implementing-deep-learning-methods-feature-engineering-text-data-cbow.html"
      ]
    },
    {
      "cell_type": "markdown",
      "metadata": {
        "id": "HO3ljwUCPdif",
        "colab_type": "text"
      },
      "source": [
        "## 0. Set-up"
      ]
    },
    {
      "cell_type": "markdown",
      "metadata": {
        "id": "OCejqcScPiHT",
        "colab_type": "text"
      },
      "source": [
        "### Imports"
      ]
    },
    {
      "cell_type": "code",
      "metadata": {
        "id": "od3OWtF458Jh",
        "colab_type": "code",
        "outputId": "827b73b2-c50a-4b2a-8b13-9812dea351a3",
        "colab": {
          "base_uri": "https://localhost:8080/",
          "height": 35
        }
      },
      "source": [
        "%tensorflow_version 2.x\n",
        "import tensorflow as tf\n",
        "device_name = tf.test.gpu_device_name()\n",
        "if device_name != '/device:GPU:0':\n",
        "  raise SystemError('GPU device not found')\n",
        "print('Found GPU at: {}'.format(device_name))"
      ],
      "execution_count": 0,
      "outputs": [
        {
          "output_type": "stream",
          "text": [
            "Found GPU at: /device:GPU:0\n"
          ],
          "name": "stdout"
        }
      ]
    },
    {
      "cell_type": "code",
      "metadata": {
        "id": "G2ei2FEDN2B3",
        "colab_type": "code",
        "colab": {}
      },
      "source": [
        "import os\n",
        "import numpy as np\n",
        "import _pickle as cPickle"
      ],
      "execution_count": 0,
      "outputs": []
    },
    {
      "cell_type": "markdown",
      "metadata": {
        "id": "B_VWuULGPrqY",
        "colab_type": "text"
      },
      "source": [
        "### Get Google drive access"
      ]
    },
    {
      "cell_type": "code",
      "metadata": {
        "id": "ad9qpjzlPpX4",
        "colab_type": "code",
        "outputId": "0d8eeece-b53b-439a-ef6e-2d91e1be99f4",
        "colab": {
          "base_uri": "https://localhost:8080/",
          "height": 55
        }
      },
      "source": [
        "from google.colab import drive\n",
        "drive.mount('/content/gdrive')"
      ],
      "execution_count": 0,
      "outputs": [
        {
          "output_type": "stream",
          "text": [
            "Drive already mounted at /content/gdrive; to attempt to forcibly remount, call drive.mount(\"/content/gdrive\", force_remount=True).\n"
          ],
          "name": "stdout"
        }
      ]
    },
    {
      "cell_type": "markdown",
      "metadata": {
        "id": "uuntwCvRP5KS",
        "colab_type": "text"
      },
      "source": [
        "### Set the paths"
      ]
    },
    {
      "cell_type": "code",
      "metadata": {
        "id": "dXUBsn2rPwkW",
        "colab_type": "code",
        "colab": {}
      },
      "source": [
        "root_path = 'gdrive/My Drive/metaphors/'\n",
        "corpus_dir = root_path + 'data/Wikipedia/'\n",
        "pickle_dir = root_path + 'data/pickles/'\n",
        "CBOW_dir = root_path + 'models/CBOW/'"
      ],
      "execution_count": 0,
      "outputs": []
    },
    {
      "cell_type": "markdown",
      "metadata": {
        "id": "Dk0ZO1TxShGw",
        "colab_type": "text"
      },
      "source": [
        "## 1. Get the corpus"
      ]
    },
    {
      "cell_type": "markdown",
      "metadata": {
        "id": "A708LIxLWYR5",
        "colab_type": "text"
      },
      "source": [
        "### List of sentences"
      ]
    },
    {
      "cell_type": "code",
      "metadata": {
        "id": "z7JzJcFCTGTj",
        "colab_type": "code",
        "outputId": "cefa8283-9c0d-47b5-f864-7cea5707d2e1",
        "colab": {
          "base_uri": "https://localhost:8080/",
          "height": 35
        }
      },
      "source": [
        "corpus_text_file = os.path.join(corpus_dir, 'wiki_en.txt')\n",
        "corpus_file = open(corpus_text_file,'r')\n",
        "corpus = corpus_file.read()\n",
        "len(corpus)"
      ],
      "execution_count": 0,
      "outputs": [
        {
          "output_type": "execute_result",
          "data": {
            "text/plain": [
              "327728373"
            ]
          },
          "metadata": {
            "tags": []
          },
          "execution_count": 101
        }
      ]
    },
    {
      "cell_type": "code",
      "metadata": {
        "id": "RpULsfLTme0Y",
        "colab_type": "code",
        "outputId": "4d0c0efe-105b-4b58-ff81-dc88408a3b29",
        "colab": {
          "base_uri": "https://localhost:8080/",
          "height": 52
        }
      },
      "source": [
        "import nltk\n",
        "nltk.download('punkt')\n",
        "from nltk.tokenize import sent_tokenize"
      ],
      "execution_count": 0,
      "outputs": [
        {
          "output_type": "stream",
          "text": [
            "[nltk_data] Downloading package punkt to /root/nltk_data...\n",
            "[nltk_data]   Package punkt is already up-to-date!\n"
          ],
          "name": "stdout"
        }
      ]
    },
    {
      "cell_type": "code",
      "metadata": {
        "id": "H-P4_EgLl992",
        "colab_type": "code",
        "colab": {}
      },
      "source": [
        "sents = sent_tokenize(corpus)"
      ],
      "execution_count": 0,
      "outputs": []
    },
    {
      "cell_type": "code",
      "metadata": {
        "id": "l-ZXfWHWmsNK",
        "colab_type": "code",
        "outputId": "e0c7759c-280d-4da3-aa73-2bc09706c868",
        "colab": {
          "base_uri": "https://localhost:8080/",
          "height": 35
        }
      },
      "source": [
        "len(sents)"
      ],
      "execution_count": 0,
      "outputs": [
        {
          "output_type": "execute_result",
          "data": {
            "text/plain": [
              "2199884"
            ]
          },
          "metadata": {
            "tags": []
          },
          "execution_count": 104
        }
      ]
    },
    {
      "cell_type": "code",
      "metadata": {
        "id": "dcFa0O_ot69O",
        "colab_type": "code",
        "outputId": "1c94604c-f102-4e95-aa75-036be8b363b7",
        "colab": {
          "base_uri": "https://localhost:8080/",
          "height": 55
        }
      },
      "source": [
        "sents[4]"
      ],
      "execution_count": 0,
      "outputs": [
        {
          "output_type": "execute_result",
          "data": {
            "text/plain": [
              "'As anarchism does not offer a fixed body of doctrine from a single particular worldview, many anarchist types and traditions exist and varieties of anarchy diverge widely.'"
            ]
          },
          "metadata": {
            "tags": []
          },
          "execution_count": 105
        }
      ]
    },
    {
      "cell_type": "code",
      "metadata": {
        "id": "uGxxuDzx2It6",
        "colab_type": "code",
        "outputId": "781ff98a-8fb4-4424-8df9-442896311507",
        "colab": {
          "base_uri": "https://localhost:8080/",
          "height": 35
        }
      },
      "source": [
        "sents[4][10]"
      ],
      "execution_count": 0,
      "outputs": [
        {
          "output_type": "execute_result",
          "data": {
            "text/plain": [
              "'s'"
            ]
          },
          "metadata": {
            "tags": []
          },
          "execution_count": 106
        }
      ]
    },
    {
      "cell_type": "markdown",
      "metadata": {
        "id": "cdINtDSo_3P1",
        "colab_type": "text"
      },
      "source": [
        "### List of articles (INFO)"
      ]
    },
    {
      "cell_type": "code",
      "metadata": {
        "id": "SoNLzPObhSlU",
        "colab_type": "code",
        "colab": {}
      },
      "source": [
        "import re"
      ],
      "execution_count": 0,
      "outputs": []
    },
    {
      "cell_type": "code",
      "metadata": {
        "id": "uv9cXy_arqmy",
        "colab_type": "code",
        "colab": {}
      },
      "source": [
        "split_reg = re.compile('\\n')\n",
        "articles = split_reg.split(corpus)"
      ],
      "execution_count": 0,
      "outputs": []
    },
    {
      "cell_type": "code",
      "metadata": {
        "id": "ADrwr93IE-Zn",
        "colab_type": "code",
        "outputId": "6613687f-60e6-4944-d790-1662a770f838",
        "colab": {
          "base_uri": "https://localhost:8080/",
          "height": 55
        }
      },
      "source": [
        "articles[10]"
      ],
      "execution_count": 0,
      "outputs": [
        {
          "output_type": "execute_result",
          "data": {
            "text/plain": [
              "'The \\'\\'\\'Academy Awards\\'\\'\\', more popularly known as \\'\\'\\'the Oscars\\'\\'\\', are awards for artistic and technical merit in the film industry. Given annually by the Academy of Motion Picture Arts and Sciences (AMPAS), the awards are an international recognition of excellence in cinematic achievements as assessed by the Academy\\'s voting membership. The various category winners are awarded a copy of a golden statuette, officially called the \"Academy Award of Merit\", although more commonly referred to by its nickname \"Oscar\". The statuette depicts a knight rendered in Art Deco style. The award was originally sculpted by George Stanley from a design sketch by Cedric Gibbons. AMPAS first presented it in 1929 at a private dinner hosted by Douglas Fairbanks in the Hollywood Roosevelt Hotel in what would become known as the 1st Academy Awards. The Academy Awards ceremony was first broadcast by radio in 1930 and televised for the first time in 1953. It is the oldest worldwide entertainment awards ceremony and is now televised live worldwide. It is also the oldest of the four major annual American entertainment awards; its other three equivalents – the Emmy Awards for television, the Tony Awards for theater, and the Grammy Awards for music – are modeled after the Academy Awards. The 91st Academy Awards ceremony, honoring the best films of 2018, was held on February 24, 2019, at the Dolby Theatre, in Los Angeles, California. The ceremony was broadcast on ABC. A total of 3,096 Oscar statuettes have been awarded from the inception of the award through the 91st ceremony. It was the first ceremony since 1989 without a host. The 92nd Academy Awards ceremony, which honors the best films of 2019, will be held on February 9, 2020. The ceremony will again be broadcast on ABC. It will take place at the Dolby Theatre in Los Angeles, California for the 18th consecutive year. ==History== The first Academy Awards presentation was held on May 16, 1929, at a private dinner function at the Hollywood Roosevelt Hotel with an audience of about 270 people. The post-awards party was held at the Mayfair Hotel. The cost of guest tickets for that night\\'s ceremony was $5 ($ in dollars). Fifteen statuettes were awarded, honoring artists, directors and other participants in the film-making industry of the time, for their works during the 1927–28 period. The ceremony ran for 15 minutes. Winners were announced to media three months earlier. That was changed for the second ceremony in 1930. Since then, for the rest of the first decade, the results were given to newspapers for publication at 11:00 pm on the night of the awards. This method was used until 1940, when the \\'\\'Los Angeles Times\\'\\' announced the winners before the ceremony began; as a result, the Academy has, since 1941, used a sealed envelope to reveal the names of the winners. ===Notable Milestones=== The first Best Actor awarded was Emil Jannings, for his performances in \\'\\'The Last Command\\'\\' and \\'\\'The Way of All Flesh\\'\\'. He had to return to Europe before the ceremony, so the Academy agreed to give him the prize earlier; this made him the first Academy Award winner in history. At that time, winners were recognized for the entirety of their work done in a certain category during the qualifying period; for example, Jannings received the award for two movies in which he starred during that period, and Janet Gaynor later won a single Oscar for performances in three films. With the fourth ceremony, however, the system changed, and professionals were honored for a specific performance in a single film. For the first six ceremonies, the eligibility period spanned two calendar years. At the 29th ceremony, held in 1957, the Best Foreign Language Film category was introduced. Until then, films had been honored with the Special Achievement Award. The 74th Academy Awards, held in 2002, presented the first Academy Award for Best Animated Feature. Since 1973, all Academy Awards ceremonies have ended with the Academy Award for Best Picture. Traditionally, the previous year\\'s winner for Best Actor and Best Supporting Actor present the awards for Best Actress and Best Supporting Actress, while the previous year\\'s winner for Best Actress and Best Supporting Actress present the awards for Best Actor and Best Supporting Actor. ==Oscar statuette== ===Academy Award of Merit (Oscar statuette)=== :\\'\\'See also \\'\\' The best known award is the Academy Award of Merit, more popularly known as the Oscar statuette. Made of gold-plated bronze on a black metal base, it is 13.5 in (34.3 cm) tall, weighs 8.5 lb (3.856 kg), and depicts a knight rendered in Art Deco style holding a crusader\\'s sword standing on a reel of film with five spokes. The five spokes represent the original branches of the Academy: Actors, Writers, Directors, Producers, and Technicians. The model for the statuette is said to be Mexican actor Emilio \"El Indio\" Fernández. Sculptor George Stanley (who also did the Muse Fountain at the Hollywood Bowl) sculpted Cedric Gibbons\\' design. The statuettes presented at the initial ceremonies were gold-plated solid bronze. Within a few years, the bronze was abandoned in favor of Britannia metal, a pewter-like alloy which is then plated in copper, nickel silver, and finally, 24-karat gold. Due to a metal shortage during World War II, Oscars were made of painted plaster for three years. Following the war, the Academy invited recipients to redeem the plaster figures for gold-plated metal ones. The only addition to the Oscar since it was created is a minor streamlining of the base. The original Oscar mold was cast in 1928 at the C.W. Shumway & Sons Foundry in Batavia, Illinois, which also contributed to casting the molds for the Vince Lombardi Trophy and Emmy Award\\'s statuettes. From 1983 to 2015, approximately 50 Oscars in a tin alloy with gold plating were made each year in Chicago by Illinois manufacturer R.S. Owens & Company. It would take between three and four weeks to manufacture 50 statuettes. In 2016, the Academy returned to bronze as the core metal of the statuettes, handing manufacturing duties to Walden, New York-based Polich Tallix Fine Art Foundry. While based on a digital scan of an original 1929 Oscar, the statuettes retain their modern-era dimensions and black pedestal. Cast in liquid bronze from 3D-printed ceramic molds and polished, they are then electroplated in 24-karat gold by Brooklyn, New York–based Epner Technology. The time required to produce 50 such statuettes is roughly three months. R.S. Owens is expected to continue producing other awards for the Academy and service existing Oscars that need replating. ===Naming=== The Academy officially adopted the name \"Oscar\" for the trophies in 1939. However, the origin of the nickname is disputed. One biography of Bette Davis, who was a president of the Academy in 1941, claims she named the award after her first husband, band leader Harmon Oscar Nelson. A frequently mentioned originator is Margaret Herrick, the Academy executive secretary, who, when she first saw the award in 1931, said the statuette reminded her of \"Uncle Oscar\", a nickname for her cousin Oscar Pierce. Columnist Sidney Skolsky, who was present during Herrick\\'s naming in 1931, wrote that \"Employees have affectionately dubbed their famous statuette \\'Oscar.\\'\" The Academy credits Skolsky with \"the first confirmed newspaper reference\" to \\'\\'Oscar\\'\\' in his column on March 16, 1934, which was written about that year\\'s 6th Academy Awards. The 1934 awards appeared again in another early media mention of \\'\\'Oscar\\'\\': a \\'\\'Time\\'\\' magazine story. In the ceremonies that year, Walt Disney was the first to thank the Academy for his \"Oscar\" during his acceptance speech. ===Engraving=== To prevent information from identifying the Oscar winners from leaking ahead of the ceremony, Oscar statuettes presented at the ceremony have blank baseplates. Until 2010, winners returned their statuettes to the Academy and had to wait several weeks to have their names inscribed on their respective Oscars. Since 2010, winners have had the option of having engraved nameplates applied to their statuettes at an station at the Governor\\'s Ball, a party held immediately after the Oscar ceremony. The R.S. Owens company has engraved nameplates made before the ceremony, bearing the name of every potential winner. The nameplates for the non-winning nominees are later recycled. ===Ownership of Oscar statuettes=== Since 1950, the statuettes have been legally encumbered by the requirement that neither winners nor their heirs may sell the statuettes without first offering to sell them back to the Academy for US$1. If a winner refuses to agree to this stipulation, then the Academy keeps the statuette. Academy Awards not protected by this agreement have been sold in public auctions and private deals for six-figure sums. In December 2011, Orson Welles\\' 1941 Oscar for \\'\\'Citizen Kane\\'\\' (Academy Award for Best Original Screenplay) was put up for auction, after his heirs won a 2004 court decision contending that Welles did not sign any agreement to return the statue to the Academy. On December 20, 2011, it sold in an online auction for US$861,542. In 1992, Harold Russell needed money for his wife\\'s medical expenses. In a controversial decision, he consigned his 1946 Oscar for Best Supporting Actor for \\'\\'The Best Years of Our Lives\\'\\' to Herman Darvick Autograph Auctions, and on August 6, 1992, in New York City, the Oscar sold to a private collector for $60,500. Since he won the award before 1950, he was not required to offer it to the Academy first. Russell defended his decision, saying, \"I don\\'t know why anybody would be critical. My wife\\'s health is much more important than sentimental reasons. The movie will be here, even if Oscar isn\\'t.\" Harold Russell is the only Academy Award-winning actor to ever sell an Oscar. While the Oscar is owned by the recipient, it is essentially not on the open market. Michael Todd\\'s grandson tried to sell Todd\\'s Oscar statuette to a movie prop collector in 1989, but the Academy won the legal battle by getting a permanent injunction. Although some Oscar sales transactions have been successful, some buyers have subsequently returned the statuettes to the Academy, which keeps them in its treasury. ===Other awards presented by the Academy=== :\\'\\'See also (below).\\'\\' In addition to the Academy Award of Merit (Oscar award), there are nine honorary awards presented by the Academy from time to time (except for the Academy Honorary Award, the Technical Achievement Award, and the Student Academy Awards, which are presented annually): * Governors Awards: ** The Academy Honorary Award (annual) (which may or may not be in the form of an Oscar statuette); ** The Irving G. Thalberg Memorial Award (since 1938) (in the form of a bust of Thalberg); ** The Jean Hersholt Humanitarian Award (since 1957) (in the form of an Oscar statuette); * The Academy Scientific and Technical Awards: ** Academy Award of Merit (in the form of an Oscar statuette); ** Scientific and Engineering Award (in the form of a bronze tablet); ** Technical Achievement Award (annual) (in the form of a certificate); ** The John A. Bonner Medal of Commendation (since 1978) (in the form of a medal); ** The Gordon E. Sawyer Award (since 1982); and * The Academy Student Academy Awards (annual). The Academy also awards Nicholl Fellowships in Screenwriting. ==Nomination== Since 2004, Academy Award nomination results have been announced to the public in mid-January. Prior to that, the results were announced in early February. ===Voters=== The Academy of Motion Picture Arts and Sciences (AMPAS), a professional honorary organization, maintains a voting membership of over 8,000 . Academy membership is divided into different branches, with each representing a different discipline in film production. Actors constitute the largest voting bloc, numbering 1,311 members (22 percent) of the Academy\\'s composition. Votes have been certified by the auditing firm (and its predecessor Price Waterhouse) since the 7th Academy Awards in 1935. The firm mails the ballots of eligible nominees to members of the Academy in December to reflect the previous eligible year with a due date sometime in January of the next year, then tabulates the votes in a process that takes thousands of hours. All AMPAS members must be invited to join by the Board of Governors, on behalf of Academy Branch Executive Committees. Membership eligibility may be achieved by a competitive nomination or a member may submit a name based on other significant contributions to the field of motion pictures. New membership proposals are considered annually. The Academy does not publicly disclose its membership, although as recently as 2007 press releases have announced the names of those who have been invited to join. The 2007 release also stated that it has just under 6,000 voting members. While the membership had been growing, stricter policies have kept its size steady since then. In 2012, the results of a study conducted by the \\'\\'Los Angeles Times\\'\\' were published describing the demographic breakdown of approximately 88% of AMPAS\\' voting membership. Of the 5,100+ active voters confirmed, 94% were Caucasian, 77% were male, and 54% were found to be over the age of 60. 33% of voting members are former nominees (14%) and winners (19%). In May 2011, the Academy sent a letter advising its 6,000 or so voting members that an online system for Oscar voting would be implemented in 2013. ===Rules=== According to Rules 2 and 3 of the official Academy Awards Rules, a film must open in the previous calendar year, from midnight at the start of January 1 to midnight at the end of December 31, in Los Angeles County, California, and play for seven consecutive days, to qualify (except for the Best Foreign Language Film, Best Documentary Feature, and Best Documentary Short Subject). The Best Foreign Language Film award does not require a U.S. release. It requires the film to be submitted as its country\\'s official selection. The Best Documentary Feature award requires either week-long releases in both Los Angeles County and New York City during the previous calendar year, or a qualifying award at a competitive film festival from the Documentary Feature Qualifying Festival list (regardless of any public exhibition or distribution), or a submission in the Foreign Language Film category as its country\\'s official selection. The Best Documentary Short Subject award has noticeably different eligibility rules from most other competitive awards. First, the qualifying period for release does not coincide with a calendar year, instead covering a one-year period starting on September 1 and ending on August 31 of the calendar year before the ceremony. Second, there are multiple methods of qualification. The main method is a week-long theatrical release in \\'\\'either\\'\\' Los Angeles County \\'\\'or\\'\\' New York City during the eligibility period. Films also can qualify by winning specified awards at one of a number of competitive film festivals designated by the Academy. Finally, a film that is selected as a gold, silver, or bronze medal winner in the Documentary category of the immediately previous Student Academy Awards is also eligible. For example, the 2009 Best Picture winner, \\'\\'The Hurt Locker\\'\\', was actually first released in 2008, but did not qualify for the 2008 awards, as it did not play its run in Los Angeles until mid-2009, thus qualifying for the 2009 awards. Foreign films must include English subtitles, and each country can submit only one film per year. Rule 2 states that a film must be feature-length, defined as a minimum of 40 minutes, except for short-subject awards, and it must exist either on a 35 mm or 70 mm film print or in 24 frame/s or 48 frame/s progressive scan digital cinema format with a minimum projector resolution of 2048 by 1080 pixels. Effective with the 90th Academy Awards, presented in 2018, multi-part and limited series will be ineligible for the Best Documentary Feature award. This followed the win of \\'\\'O.J.: Made in America\\'\\', an eight-hour presentation that was screened in a limited release before being broadcast in five parts on ABC and ESPN, in that category in 2017. The Academy\\'s announcement of the new rule made no direct mention of that film. Producers must submit an Official Screen Credits online form before the deadline; in case it is not submitted by the defined deadline, the film will be ineligible for Academy Awards in any year. The form includes the production credits for all related categories. Then, each form is checked and put in a Reminder List of Eligible Releases. In late December, ballots and copies of the Reminder List of Eligible Releases are mailed to around 6,000 active members. For most categories, members from each of the branches vote to determine the nominees only in their respective categories (i.e. only directors vote for directors, writers for writers, actors for actors, etc.). In the special case of Best Picture, all voting members are eligible to select the nominees. In all major categories, a variant of the single transferable vote is used, with each member casting a ballot with up to five nominees (ten for Best Picture) ranked preferentially. In certain categories, including Foreign Film, Documentary and Animated Feature, nominees are selected by special screening committees made up of members from all branches. In most categories, the winner is selected from among the nominees by plurality voting of all members. Since 2009, the Best Picture winner has been chosen by instant runoff voting. Since 2013, re-weighted range voting has been used to select the nominees for the Best Visual Effects. Film companies will spend as much as several million dollars on marketing to awards voters for a movie in the running for Best Picture, in attempts to improve chances of receiving Oscars and other movie awards conferred in Oscar season. The Academy enforces rules to limit overt campaigning by its members so as to try to eliminate excesses and prevent the process from becoming undignified. It has an awards czar on staff who advises members on allowed practices and levies penalties on offenders. For example, a producer of the 2009 Best Picture nominee \\'\\'The Hurt Locker\\'\\' was disqualified as a producer in the category when he contacted associates urging them to vote for his film and not another that was seen as the front-runner (\\'\\'The Hurt Locker\\'\\' eventually won). ==Awards ceremonies== ===Telecast=== Pantages Theatre, Hollywood, 1959 81st Academy Awards Theatre, Hollywood, 2009 The major awards are presented at a live televised ceremony, commonly in late February or early March following the relevant calendar year, and six weeks after the announcement of the nominees. It is the culmination of the film awards season, which usually begins during November or December of the previous year. This is an elaborate extravaganza, with the invited guests walking up the red carpet in the creations of the most prominent fashion designers of the day. Black tie dress is the most common outfit for men, although fashion may dictate not wearing a bow-tie, and musical performers sometimes do not adhere to this. (The artists who recorded the nominees for Best Original Song quite often perform those songs live at the awards ceremony, and the fact that they are performing is often used to promote the television broadcast.) The Academy Awards is the world\\'s longest-running awards show televised live in all U.S. time zones (excluding territories outside mainland North America), Canada, and the United Kingdom, and gathers billions of viewers elsewhere throughout the world. The Oscars were first televised in 1953 by NBC, which continued to broadcast the event until 1960, when ABC took over, televising the festivities (including the first color broadcast of the event in 1966) through 1970. NBC regained the rights for five years then ABC resumed broadcast duties in 1976 and its current contract with the Academy runs through 2028. The Academy has also produced condensed versions of the ceremony for broadcast in international markets (especially those outside of the Americas) in more desirable local timeslots. The ceremony was broadcast live internationally for the first time via satellite since 1970, but only two South American countries, Chile and Brazil, purchased the rights to air the broadcast. By that time, the television rights to the Academy Awards had been sold in 50 countries. A decade later, the rights were already being sold to 60 countries, and by 1984, the TV rights to the Awards were licensed in 76 countries. The ceremonies were moved up from late March/early April to late February, since 2004, to help disrupt and shorten the intense lobbying and ad campaigns associated with Oscar season in the film industry. Another reason was because of the growing TV ratings success coinciding with the NCAA Basketball Tournament, which would cut into the Academy Awards audience. (In 1976 and 1977, ABC\\'s regained Oscars were moved from Tuesday to Monday and went directly opposite NBC\\'s NCAA title game.) The earlier date is also to the advantage of ABC, as it now usually occurs during the highly profitable and important February sweeps period. Some years, the ceremony is moved into the first Sunday of March in order to avoid a clash with the Winter Olympic Games. Another reason for the move to late February and early March is also to avoid the awards ceremony occurring so close to the religious holidays of Passover and Easter, which for decades had been a grievance from members and the general public. Advertising is somewhat restricted, however, as traditionally no movie studios or competitors of official Academy Award sponsors may advertise during the telecast. The production of the Academy Awards telecast currently holds the distinction of winning the most Emmys in history, with 47 wins and 195 nominations overall since that award\\'s own launch in 1949. After many years of being held on Mondays at 9:00 pm Eastern/6:00 p.m Pacific, since the 1999 ceremonies, it was moved to Sundays at 8:30 pm ET/5:30 pm PT. The reasons given for the move were that more viewers would tune in on Sundays, that Los Angeles rush-hour traffic jams could be avoided, and an earlier start time would allow viewers on the East Coast to go to bed earlier. For many years the film industry opposed a Sunday broadcast because it would cut into the weekend box office. In 2010, the Academy contemplated moving the ceremony even further back into January, citing TV viewers\\' fatigue with the film industry\\'s long awards season. However, such an accelerated schedule would dramatically decrease the voting period for its members, to the point where some voters would only have time to view the contending films streamed on their computers (as opposed to traditionally receiving the films and ballots in the mail). Furthermore, a January ceremony on Sunday would clash with National Football League playoff games. In 2018, the Academy announced that the ceremony would be moved from late February to mid February beginning with the 92nd Academy Awards in 2020. Originally scheduled for April 8, 1968, the 40th Academy Awards ceremony was postponed for two days, because of the assassination of Dr. Martin Luther King, Jr.. On March 30, 1981, the 53rd Academy Awards was postponed for one day, after the shooting of President Ronald Reagan and others in Washington, D.C. In 1993, an \\'\\'In Memoriam\\'\\' segment was introduced, honoring those who had made a significant contribution to cinema who had died in the preceding 12 months, a selection compiled by a small committee of Academy members. This segment has drawn criticism over the years for the omission of some names. Criticism was also levied for many years regarding another aspect, with the segment having a \"popularity contest\" feel as the audience varied their applause to those who had died by the subject\\'s cultural impact; the applause has since been muted during the telecast, and the audience is discouraged from clapping during the segment and giving silent reflection instead. In terms of broadcast length, the ceremony generally averages three and a half hours. The first Oscars, in 1929, lasted 15 minutes. At the other end of the spectrum, the 2002 ceremony lasted four hours and twenty-three minutes. In 2010, the organizers of the Academy Awards announced winners\\' acceptance speeches must not run past 45 seconds. This, according to organizer Bill Mechanic, was to ensure the elimination of what he termed \"the single most hated thing on the show\" – overly long and embarrassing displays of emotion. In 2016, in a further effort to streamline speeches, winners\\' dedications were displayed on an on-screen ticker. During the 2018 ceremony, host Jimmy Kimmel acknowledged how long the ceremony had become, by announcing that he would give a brand-new jet ski to whoever gave the shortest speech of the night (a reward won by Mark Bridges when accepting his Best Costume Design award for \\'\\'Phantom Thread\\'\\'). The \\'\\'Wall Street Journal\\'\\' analyzed the average minutes spent across the 2014–2018 telecasts as follows: 14 on song performances; 25 on the hosts\\' speeches; 38 on prerecorded clips; and 78 on the awards themselves, broken into 24 on the introduction and announcement, 24 on winners walking to the stage, and 30 on their acceptance speeches. Although still dominant in ratings, the viewership of the Academy Awards has steadily dropped; the 88th Academy Awards were the lowest-rated in the past eight years (although with increases in male and 18–49 viewership), while the show itself also faced mixed reception. Following the show, \\'\\'Variety\\'\\' reported that ABC was, in negotiating an extension to its contract to broadcast the Oscars, seeking to have more creative control over the broadcast itself. Currently and nominally, AMPAS is responsible for most aspects of the telecast, including the choice of production staff and hosting, although ABC is allowed to have some input on their decisions. In August 2016, AMPAS extended its contract with ABC through 2028: the contract neither contains any notable changes, nor gives ABC any further creative control over the telecast. ===TV ratings=== Historically, the telecast\\'s viewership is higher when box-office hits are favored to win the Best Picture trophy. More than 57.25 million viewers tuned to the telecast for the 70th Academy Awards in 1998, the year of \\'\\'Titanic\\'\\', which generated close to US$500 million at the North American box office and 1.2 billion dollars worldwide pre-Oscars, with the final box office haul during its initial 1997–98 run being 600.8 million US$ in the US and 1.84 billion US$ worldwide, both sky-high box office records back then (they were only surpassed 12 years later in 2010). The 76th Academy Awards ceremony, in which \\'\\'The Lord of the Rings: The Return of the King\\'\\' (pre-telecast box office earnings of US$368 million) received 11 Awards including Best Picture, drew 43.56 million viewers. The most watched ceremony based on Nielsen ratings to date, however, was the 42nd Academy Awards (Best Picture \\'\\'Midnight Cowboy\\'\\') which drew a 43.4% household rating on April 7, 1970. By contrast, ceremonies honoring films that have not performed well at the box office tend to show weaker ratings. The 78th Academy Awards which awarded low-budgeted, independent film \\'\\'Crash\\'\\' (with a pre-Oscar gross of US$53.4 million) generated an audience of 38.64 million with a household rating of 22.91%. In 2008, the 80th Academy Awards telecast was watched by 31.76 million viewers on average with an 18.66% household rating, the lowest rated and least-watched ceremony at the time, in spite of celebrating 80 years of the Academy Awards. The Best Picture winner of that particular ceremony was another independently financed film (\\'\\'No Country for Old Men\\'\\'). ==Venues== In 1929, the first Academy Awards were presented at a banquet dinner at the Hollywood Roosevelt Hotel. From 1930 to 1943, the ceremony alternated between two venues: the Ambassador Hotel on Wilshire Boulevard and the Biltmore Hotel in downtown Los Angeles. Grauman\\'s Chinese Theatre in Hollywood then hosted the awards from 1944 to 1946, followed by the Shrine Auditorium in Los Angeles from 1947 to 1948. The 21st Academy Awards in 1949 were held at the Academy Award Theatre at what was the Academy\\'s headquarters on Melrose Avenue in Hollywood. From 1950 to 1960, the awards were presented at Hollywood\\'s Pantages Theatre. With the advent of television, the awards from 1953 to 1957 took place simultaneously in Hollywood and New York, first at the NBC International Theatre (1953) and then at the NBC Century Theatre, after which the ceremony took place solely in Los Angeles. The Oscars moved to the Santa Monica Civic Auditorium in Santa Monica, California in 1961. By 1969, the Academy decided to move the ceremonies back to Downtown Los Angeles, this time to the Dorothy Chandler Pavilion at the Los Angeles County Music Center. In the late 1990s and early 2000s, the ceremony returned to the Shrine. In 2002, Hollywood\\'s Dolby Theatre (previously known as the Kodak Theatre) became the presentation\\'s current venue. ==Awards of Merit categories== ===Current categories=== In the first year of the awards, the Best Directing award was split into two categories (Drama and Comedy). At times, the Best Original Score award has also been split into separate categories (Drama and From the 1930s through the 1960s, the Art Direction (now Production Design), Cinematography, and Costume Design awards were likewise split into two categories films and color films). Prior to 2012, the Production Design award was called Art Direction, while the Makeup and Hairstyling award was called Makeup. In August 2018, the Academy announced that several categories would not be televised live, but rather be recorded during commercial breaks and aired later in the ceremony. Following dissent from Academy members, they announced that they would indeed air all 24 categories live. This followed a number of proposals (including introducing a Popular Film category) that the Academy had announced but did not implement. ===Discontinued categories=== ===Proposed categories=== The Board of Governors meets each year and considers new award categories. To date, the following categories have been proposed: * Best Casting: rejected in 1999 * Best Popular Film: proposed in 2018 for presentation at the 2019 ceremony; postponed until the 2020 ceremony at the earliest * Best Stunt Coordination: rejected every year from 1991 to 2012 * Best Title Design: rejected in 1999 ==Special categories== The Special Academy Awards are voted on by special committees, rather than by the Academy membership as a whole. They are not always presented on a consistent annual basis. ===Current special categories=== :\\'\\'For a list of all nine awards, see (above)\\'\\' * Academy Honorary Award: since 1929 * Academy Scientific and Technical Award (three different awards): since 1931 * Gordon E. Sawyer Award: since 1981 * Jean Hersholt Humanitarian Award: since 1957 * Irving G. Thalberg Memorial Award: since 1938 * Academy Special Achievement Award: from 1972 to 1995, and again for 2017 ===Discontinued special categories=== * Academy Juvenile Award: 1934 to 1960 ==Criticism== ===Accusations of Due to the positive exposure and prestige of the Academy Awards, many studios spend millions of dollars and hire publicists specifically to promote their films during what is typically called the \"Oscar season\". This has generated accusations of the Academy Awards being influenced more by marketing than quality. William Friedkin, an Academy Award-winning film director and former producer of the ceremony, expressed this sentiment at a conference in New York in 2009, describing it as \"the greatest promotion scheme that any industry ever devised for itself\". Tim Dirks, editor of AMC\\'s filmsite.org, has written of the Academy Awards, A recent technique that has been claimed to be used during the Oscar season is the Whisper campaign. These campaigns are intended to spread negative perceptions of other movies nominated and are believed to be perpetrated by those that were involved in creating the movie. Examples of whisper campaigns include the allegations against \\'\\'Zero Dark Thirty\\'\\' suggesting that it justifies torture and the claim that \\'\\'Lincoln\\'\\' distorts history. ===Accusations of bias=== Typical criticism of the Academy Awards for Best Picture is that among the winners and nominees there is an of romantic historical epics, biographical dramas, romantic dramedies and family melodramas, most of which are released in the U.S. the last three months of the calendar year. The Oscars have been infamously known for selecting specific genres of movies to be awarded. This has led to the coining of the term \\'Oscar bait\\', describing such movies. This has led at times to more specific criticisms that the Academy is disconnected from the audience, e.g., by favoring \\'Oscar bait\\' over audience favorites, or favoring historical melodramas over critically acclaimed movies that depict current life issues. ===Allegations of a lack of diversity=== The Academy Awards have long received criticism over its lack of diversity among the nominees. This criticism is based on the statistics from every Academy Awards since 1929, which shows us that only 6.4% of academy award nominees have been non-white and since 1991, 11.2% of nominees have been non-white, with the rate of winners being even more polarizing. More white actresses have won Oscars for yellowface portrayals of Asian characters than actual Asian actresses. The 88th awards ceremony became the target of a boycott, popularized on social media with the hashtag #OscarsSoWhite, based on critics\\' perception that its all-white acting nominee list reflected bias. In response, the Academy initiated \"historic\" changes in membership by the year 2020. ===Symbolism or Acting prizes in certain years have been criticized for not recognizing superior performances so much as being awarded for personal popularity, to make up for a \"snub\" for a that proved in time to be more popular and/or renowned than the one actually awarded, or presented as a \"career honor\" to recognize a distinguished nominee\\'s entire body of work. ===Recognition of streaming media film=== Following the 91st Academy Awards in February 2019 in which the film \\'\\'Roma\\'\\' had been nominated for ten awards including the Best Picture category, Steven Spielberg and other members of the Academy discussed changing the requirements through the Board of Governors for films as to exclude those from Netflix and other media streaming services. Spielberg had been concerned that Netflix as a movie production and distribution studio could spend much more than typical Oscar-winning films and have much wider and earlier distribution than other Best films, while still being able to meet the minimal theatrical-run status to qualify for an Oscar. The United States Department of Justice, having heard of this potential rule change, wrote a letter to the Academy in March 2019, cautioning them that placing additional restrictions on films that originate from streaming media services without proper justification could raise anti-trust concerns against the Academy. Following its April 2019 board meeting, the Academy Board of Governors agreed to retain the current rules that allow for streaming media films to be eligible for Oscars as long as they enjoy limited theatrical runs. ===Refusing the award=== Some winners critical of the Academy Awards have boycotted the ceremonies and refused to accept their Oscars. The first to do so was screenwriter Dudley Nichols (Best Writing in 1935 for \\'\\'The Informer\\'\\'). Nichols boycotted the 8th Academy Awards ceremony because of conflicts between the Academy and the Writers\\' Guild. Nichols eventually accepted the 1935 award three years later, at the 1938 ceremony. Nichols was nominated for three further Academy Awards during his career. George C. Scott became the second person to refuse his award (Best Actor in 1970 for \\'\\'Patton\\'\\') at the 43rd Academy Awards ceremony. Scott described it as a \"meat parade\", saying, \"I don\\'t want any part of it.\" The third person to refuse the award was Marlon Brando, who refused his award (Best Actor for 1972\\'s \\'\\'The Godfather\\'\\'), citing the film industry\\'s discrimination and mistreatment of Native Americans. At the 45th Academy Awards ceremony, Brando sent actress and civil rights activist Sacheen Littlefeather to read a 15-page speech, detailing his criticisms, which was booed by the audience. ===Incidents=== At the 89th Academy Awards ceremony, Warren Beatty and Faye Dunaway mistakenly announced \\'\\'La La Land\\'\\' as the recipient of the Best Picture award, instead of \\'\\'Moonlight\\'\\', the actual winner. Beatty had been given the wrong envelope and after hesitating during the announcement, handed the envelope to Dunaway, which listed Emma Stone as Best Actress for \\'\\'La La Land\\'\\' and led to the confusion. The proper winner was announced after the acceptance speeches by \\'\\'La La Land\\'\\' producers Fred Berger, Jordan Horowitz and Marc Platt. The following year, Beatty and Dunaway were invited back as presenters of the Best Picture award, which they accomplished without error. ===Plagiarism * \\'\\'Zootopia\\'\\': On March 21, 2017, a copyright infringement lawsuit was filed against Disney by Esplanade Productions, a company owned by Gary L. Goldman, the co-screenwriter of \\'\\'Total Recall\\'\\'. The lawsuit claims that Goldman (in 2000 and 2009) pitched a concept to Disney for a live-action film titled \\'\\'Looney\\'\\', which was about a socially awkward animator who creates a self-inspired TV cartoon called \\'\\'Zootopia\\'\\'. Disney twice rejected the pitch, but Goldman accused the company of copying the name, themes, settings and character tropes. Filed with the lawsuit was a graphic of early concept artwork of characters that are claimed to appear similar to major characters from the film, including Nick Wilde, Judy Hopps, Flash and Chief Bogo. A Disney spokesperson described the lawsuit as being \"ridden with patently false allegations.\" U.S. District Judge Michael W. Fitzgerald dismissed the infringement claims on November 8, 2017. * \\'\\'The Shape of Water\\'\\': In February 2018, the estate of Paul Zindel initiated a lawsuit in United States District Court for the Central District of California against director Guillermo del Toro and associate producer Daniel Kraus, alleging that \\'\\'The Shape of Water\\'\\' \"brazenly copies the story, elements, characters, and themes\" of Zindel\\'s 1969 work \\'\\'Let Me Hear You Whisper\\'\\', which depicts a cleaning lady bonding with a dolphin and attempting to rescue it from a secret research laboratory\\'s nefarious uses. In July 2018, Judge Percy Anderson dismissed the suit. Nine films have been disqualified before an official award ceremony because they violated the regulations: * \\'\\'The Circus\\'\\' (1928) – The film was voluntarily removed by the Academy from competitive categories, in order to award Charlie Chaplin a special award. * \\'\\'Hondo\\'\\' (1953) – Removed from the Best Story ballot after letters from the producer and nominee questioned its inclusion in the category. * \\'\\'High Society\\'\\' (1955) – Withdrawn from screenwriting ballot after being mistaken for the 1956 movie of the same title. * \\'\\'The Godfather\\'\\' (1972) – Initially nominated for eleven awards, its nomination for Best Original Score was revoked after it was discovered that its main theme was very similar to music that the score\\'s composer had written for an earlier film. None of its other nominations were revoked, and it received three Oscars, including Best Picture. * \\'\\'A Place in the World\\'\\' (1992) – Removed from the Best Foreign Language Film ballot after it was discovered that the country who submitted the film exercised insufficient artistic control. * \\'\\'Tuba Atlantic\\'\\' (2012) – Removed from the Best Live Action Short Film ballot when it was discovered that the film aired on television before its theatrical release. * \\'\\'Alone Yet Not Alone\\'\\' (2014) – The film\\'s title song, \"Alone Yet Not Alone\", was removed from the Best Original Song ballot after Bruce Broughton was found to have improperly contacted other members of the academy\\'s musical branch; this was the first time that a film was removed from a ballot for ethical reasons. One film was disqualified after winning the award, and had the winner return the Oscar: * \\'\\'Young Americans\\'\\' (1969) – Initially won the award for Best Documentary Feature, but was later revoked after it was revealed that it had opened theatrically prior to the eligibility period. ==Associated events== The following events are closely associated with the annual Academy Awards: * César Awards * Nominees luncheon * Governors Awards * The 25th Independent Spirit Awards (2010), usually held in Santa Monica, California the Saturday before the Oscars, marked the first time it was moved to a Friday and a change of venue to L.A. Live * The annual \"Night Before\", traditionally held at the Beverly Hills Hotel, begun in 2002 and generally known as \\'\\'the \\'\\'party of the season, benefits the Motion Picture & Television Fund, which operates a retirement home for SAG actors in the San Fernando Valley * Elton John AIDS Foundation Academy Award Party airs the awards live at the nearby Pacific Design Center * The Governors Ball is the Academy\\'s official after-party, including dinner (until 2011), and is adjacent to the venue * The \\'\\'Vanity Fair\\'\\' after-party, historically at the former Morton\\'s restaurant, has been at the Sunset Tower since 2009 ==Presenter and performer gifts== It has become a tradition to give out gift bags to the presenters and performers at the Oscars. In recent years, these gifts have also been extended to award nominees and winners. The value of each of these gift bags can reach into the tens of thousands of dollars. In 2014, the value was reported to be as high as US$80,000. The value has risen to the point where the U.S. Internal Revenue Service issued a statement regarding the gifts and their taxable status. Oscar gift bags have included vacation packages to Hawaii and Mexico and Japan, a private dinner party for the recipient and friends at a restaurant, videophones, a four-night stay at a hotel, watches, bracelets, spa treatments, bottles of vodka, maple salad dressing and weight-loss gummie candy. Some of the gifts have even had a \"risque\" element to them; in 2014, the adult products retailer Adam & Eve had a \"Secret Room Gifting Suite\". Celebrities visiting the gifting suite included Judith Hoag, Carolyn Hennesy, Kate Linder, Chris Mulkey, Jim O\\'Heir, and NBA player John Salley. ==Television ratings and advertisement prices== From 2006 onwards, results are Live+SD; all previous years are live viewing. Year Ad price,USD, millions Adjusted price,USD, millions 2019 29.6 Not available Not available 2018 26.5 Not available Not available 2017 32.9 Not available Not available 2016 34.3 Not available Not available 2015 37.260 1.95 2014 43.740 1.8 – 1.9 – 2013 40.376 1.65 – 1.8 – 2012 39.460 1.610 2011 37.919 1.3684 2010 41.699 1.1267 2009 36.310 1.3 2008 32.006 1.82 2007 40.172 1.6658 2006 38.939 1.6468 2005 42.139 1.503 2004 43.531 1.5031 2003 33.043 1.3458 2002 41.782 1.29 2001 42.944 1.45 2000 46.333 1.305 1999 45.615 1 1998 57.249 0.95 1997 40.075 0.85 1996 44.867 0.795 1995 48.279 0.7 1994 45.083 0.6435 1993 45.735 0.6078 1992 44.406 Not available Not available 1991 42.727 Not available Not available 1990 40.375 0.45 1989 42.619 0.375 1988 42.227 0.36 1987 37.190 0.335 1986 37.757 0.32 1985 38.855 0.315 1984 42.051 0.275 1983 53.235 0.245 1982 46.245 Not available Not available 1981 39.919 Not available Not available 1980 48.978 Not available Not available 1979 46.301 Not available Not available 1978 48.501 Not available Not available 1977 39.719 Not available Not available 1976 46.751 Not available Not available 1975 48.127 Not available Not available 1974 44.712 Not available Not available ==Trademark== The term \"Oscar\" is a registered trademark of the AMPAS; however, in the Italian language, it is used generically to refer to any award or award ceremony, regardless of which field. ==See also== * List of film awards * List of Academy Award records * List of superlative Academy Award winners and nominees * List of actors with Academy Award nominations ==References== ==Further reading== * Brokaw, Lauren (2010). \"Wanna see an Academy Awards invite? We got it along with all the major annual events surrounding the Oscars\". Los Angeles: The Daily Truffle. * * * * Wright, Jon (2007). \\'\\'The Lunacy of Oscar: The Problems with Hollywood\\'s Biggest Night\\'\\'. Thomas Publishing, Inc. ==External links== * of the Academy of Motion Picture Arts and Sciences * * Official Academy Awards Database (searchable)'"
            ]
          },
          "metadata": {
            "tags": []
          },
          "execution_count": 19
        }
      ]
    },
    {
      "cell_type": "markdown",
      "metadata": {
        "id": "yDzYVtVHhQQQ",
        "colab_type": "text"
      },
      "source": [
        "## 2. Tokenize the corpus"
      ]
    },
    {
      "cell_type": "code",
      "metadata": {
        "id": "ONa-9v5zwivb",
        "colab_type": "code",
        "colab": {}
      },
      "source": [
        "path = os.path.join(pickle_dir + 'CBOW/', 'tokenizer.pickle')"
      ],
      "execution_count": 0,
      "outputs": []
    },
    {
      "cell_type": "code",
      "metadata": {
        "id": "oG3_ARABxCwZ",
        "colab_type": "code",
        "colab": {}
      },
      "source": [
        "from tensorflow.keras.preprocessing import text, sequence\n",
        "from tensorflow.keras.utils import to_categorical"
      ],
      "execution_count": 0,
      "outputs": []
    },
    {
      "cell_type": "code",
      "metadata": {
        "id": "iARNsnNxwi2T",
        "colab_type": "code",
        "outputId": "0f0f29ec-4d87-4f00-ae3e-2b7fe3f3c6d0",
        "colab": {
          "base_uri": "https://localhost:8080/",
          "height": 52
        }
      },
      "source": [
        "%%time\n",
        "tokenizer = text.Tokenizer()\n",
        "tokenizer.fit_on_texts(sents)"
      ],
      "execution_count": 0,
      "outputs": [
        {
          "output_type": "stream",
          "text": [
            "CPU times: user 1min 17s, sys: 175 ms, total: 1min 17s\n",
            "Wall time: 1min 17s\n"
          ],
          "name": "stdout"
        }
      ]
    },
    {
      "cell_type": "code",
      "metadata": {
        "id": "haEOIUAjwiqW",
        "colab_type": "code",
        "outputId": "31adae07-fb67-45c6-a0b4-28639fccb2e5",
        "colab": {
          "base_uri": "https://localhost:8080/",
          "height": 52
        }
      },
      "source": [
        "%%time\n",
        "word2id = tokenizer.word_index\n",
        "word2id['PAD'] = 0\n",
        "id2word = {v:k for k, v in word2id.items()}\n",
        "wids = [[word2id[w] for w in text.text_to_word_sequence(sent)] for sent in sents]"
      ],
      "execution_count": 0,
      "outputs": [
        {
          "output_type": "stream",
          "text": [
            "CPU times: user 55.7 s, sys: 567 ms, total: 56.3 s\n",
            "Wall time: 56.3 s\n"
          ],
          "name": "stdout"
        }
      ]
    },
    {
      "cell_type": "code",
      "metadata": {
        "id": "T4fSFDj6uFcc",
        "colab_type": "code",
        "outputId": "750cf8f5-2b93-407a-d36d-d8cfd9a99bbd",
        "colab": {
          "base_uri": "https://localhost:8080/",
          "height": 52
        }
      },
      "source": [
        "%%time\n",
        "tok_sents = tokenizer.texts_to_sequences(sents)"
      ],
      "execution_count": 0,
      "outputs": [
        {
          "output_type": "stream",
          "text": [
            "CPU times: user 1min, sys: 587 ms, total: 1min 1s\n",
            "Wall time: 1min 1s\n"
          ],
          "name": "stdout"
        }
      ]
    },
    {
      "cell_type": "markdown",
      "metadata": {
        "id": "T9r5DU4C4Qeq",
        "colab_type": "text"
      },
      "source": [
        "## 3. Create tf records"
      ]
    },
    {
      "cell_type": "markdown",
      "metadata": {
        "id": "97EZGc66QkTw",
        "colab_type": "text"
      },
      "source": [
        "https://medium.com/@TalPerry/getting-text-into-tensorflow-with-the-dataset-api-ffb832c8bec6"
      ]
    },
    {
      "cell_type": "code",
      "metadata": {
        "id": "jBeJ28RO7YMt",
        "colab_type": "code",
        "colab": {}
      },
      "source": [
        "def create_example(sequence, target):\n",
        "  '''Creates a SequenceExample from a tokenized sequence and target word'''\n",
        "  ex = tf.train.SequenceExample()\n",
        "  \n",
        "  # Add the context feature (here we just take the target word/label)\n",
        "  ex.context.feature[\"target\"].int64_list.value.append(target[0])\n",
        "  \n",
        "  # Feature list for the the sequential feature\n",
        "  fl_tokens = ex.feature_lists.feature_list[\"seq\"]\n",
        "  \n",
        "  # Prepend with start token\n",
        "  fl_tokens.feature.add().int64_list.value.append(0)\n",
        " \n",
        "  for token in sequence[0]:\n",
        "    # Add those tokens one by one\n",
        "    fl_tokens.feature.add().int64_list.value.append(token)\n",
        "  \n",
        "  # Apend  with end token\n",
        "  fl_tokens.feature.add().int64_list.value.append(0)\n",
        "  \n",
        "  return ex"
      ],
      "execution_count": 0,
      "outputs": []
    },
    {
      "cell_type": "code",
      "metadata": {
        "id": "wSihglLhDtJn",
        "colab_type": "code",
        "colab": {}
      },
      "source": [
        "import random"
      ],
      "execution_count": 0,
      "outputs": []
    },
    {
      "cell_type": "code",
      "metadata": {
        "id": "s3k-jYe1ezAs",
        "colab_type": "code",
        "colab": {}
      },
      "source": [
        "def create_record(sents, rec_id):\n",
        "  '''Creates a TFRecord from a list of tokenized sentences'''\n",
        "  examples = []\n",
        "  \n",
        "  for sent in sents:\n",
        "    sentence_length = len(sent)\n",
        "    for index, word in enumerate(sent):\n",
        "      context_words = []\n",
        "      label_word = []            \n",
        "      start = index - window_size\n",
        "      end = index + window_size + 1\n",
        "            \n",
        "      context_words.append([sent[i] \n",
        "                            for i in range(start, end) \n",
        "                            if 0 <= i < sentence_length \n",
        "                            and i != index])\n",
        "      \n",
        "      label_word.append(word)\n",
        "\n",
        "      example = create_example(context_words, label_word)\n",
        "      examples.append(example)\n",
        "    \n",
        "  random.shuffle(examples)\n",
        "\n",
        "  filename = 'examples_' + str(rec_id) + '.tfrecord'\n",
        "\n",
        "  with open(CBOW_dir + filename,'w') as f:\n",
        "    writer = tf.io.TFRecordWriter(f.name)\n",
        "    for example in examples:\n",
        "      writer.write(example.SerializeToString())\n",
        "    \n",
        "  print('Processed '+ filename)"
      ],
      "execution_count": 0,
      "outputs": []
    },
    {
      "cell_type": "code",
      "metadata": {
        "id": "z04EbYmZH3sR",
        "colab_type": "code",
        "outputId": "0ae25d18-6052-41ae-fa7b-81eb11a3f1ef",
        "colab": {
          "base_uri": "https://localhost:8080/",
          "height": 35
        }
      },
      "source": [
        "len(tok_sents)"
      ],
      "execution_count": 0,
      "outputs": [
        {
          "output_type": "execute_result",
          "data": {
            "text/plain": [
              "2199884"
            ]
          },
          "metadata": {
            "tags": []
          },
          "execution_count": 80
        }
      ]
    },
    {
      "cell_type": "code",
      "metadata": {
        "id": "y8C-K3saezH-",
        "colab_type": "code",
        "colab": {}
      },
      "source": [
        "batch = 200000"
      ],
      "execution_count": 0,
      "outputs": []
    },
    {
      "cell_type": "code",
      "metadata": {
        "id": "jrkcm772HyfL",
        "colab_type": "code",
        "outputId": "7e1217c5-6f90-48ab-9d78-e3a827ee03fc",
        "colab": {
          "base_uri": "https://localhost:8080/",
          "height": 225
        }
      },
      "source": [
        "for i in range(0, len(tok_sents), batch):\n",
        "  create_record(tok_sents[i:i+batch-1], i/batch)\n",
        "print('Processing complete!')"
      ],
      "execution_count": 0,
      "outputs": [
        {
          "output_type": "stream",
          "text": [
            "Processed gdrive/My Drive/metaphors/models/CBOW/examples_0.0.tfrecord\n",
            "Processed gdrive/My Drive/metaphors/models/CBOW/examples_1.0.tfrecord\n",
            "Processed gdrive/My Drive/metaphors/models/CBOW/examples_2.0.tfrecord\n",
            "Processed gdrive/My Drive/metaphors/models/CBOW/examples_3.0.tfrecord\n",
            "Processed gdrive/My Drive/metaphors/models/CBOW/examples_4.0.tfrecord\n",
            "Processed gdrive/My Drive/metaphors/models/CBOW/examples_5.0.tfrecord\n",
            "Processed gdrive/My Drive/metaphors/models/CBOW/examples_6.0.tfrecord\n",
            "Processed gdrive/My Drive/metaphors/models/CBOW/examples_7.0.tfrecord\n",
            "Processed gdrive/My Drive/metaphors/models/CBOW/examples_8.0.tfrecord\n",
            "Processed gdrive/My Drive/metaphors/models/CBOW/examples_9.0.tfrecord\n",
            "Processed gdrive/My Drive/metaphors/models/CBOW/examples_10.0.tfrecord\n",
            "Processing complete!\n"
          ],
          "name": "stdout"
        }
      ]
    },
    {
      "cell_type": "markdown",
      "metadata": {
        "id": "SaVie0eGSqxD",
        "colab_type": "text"
      },
      "source": [
        "## 3. Build the CBOW model architecture"
      ]
    },
    {
      "cell_type": "code",
      "metadata": {
        "id": "sFH2C0KqSuXT",
        "colab_type": "code",
        "colab": {}
      },
      "source": [
        "import tensorflow.keras.backend as K\n",
        "from tensorflow.keras.models import Sequential\n",
        "from tensorflow.keras.layers import Dense, Embedding, Lambda"
      ],
      "execution_count": 0,
      "outputs": []
    },
    {
      "cell_type": "code",
      "metadata": {
        "id": "6NrPtQEJe2Ik",
        "colab_type": "code",
        "outputId": "6d15a4ff-6c56-4114-d219-16adc8262f00",
        "colab": {
          "base_uri": "https://localhost:8080/",
          "height": 235
        }
      },
      "source": [
        "cbow = Sequential()\n",
        "cbow.add(Embedding(input_dim=vocab_size, output_dim=embed_size, input_length=window_size*2))\n",
        "cbow.add(Lambda(lambda x: K.mean(x, axis=1), output_shape=(embed_size,)))\n",
        "cbow.add(Dense(vocab_size, activation='softmax'))\n",
        "cbow.compile(loss='categorical_crossentropy', optimizer='rmsprop')\n",
        "\n",
        "# View model summary\n",
        "print(cbow.summary())"
      ],
      "execution_count": 0,
      "outputs": [
        {
          "output_type": "error",
          "ename": "NameError",
          "evalue": "ignored",
          "traceback": [
            "\u001b[0;31m---------------------------------------------------------------------------\u001b[0m",
            "\u001b[0;31mNameError\u001b[0m                                 Traceback (most recent call last)",
            "\u001b[0;32m<ipython-input-113-46088e994070>\u001b[0m in \u001b[0;36m<module>\u001b[0;34m()\u001b[0m\n\u001b[1;32m      1\u001b[0m \u001b[0mcbow\u001b[0m \u001b[0;34m=\u001b[0m \u001b[0mSequential\u001b[0m\u001b[0;34m(\u001b[0m\u001b[0;34m)\u001b[0m\u001b[0;34m\u001b[0m\u001b[0;34m\u001b[0m\u001b[0m\n\u001b[0;32m----> 2\u001b[0;31m \u001b[0mcbow\u001b[0m\u001b[0;34m.\u001b[0m\u001b[0madd\u001b[0m\u001b[0;34m(\u001b[0m\u001b[0mEmbedding\u001b[0m\u001b[0;34m(\u001b[0m\u001b[0minput_dim\u001b[0m\u001b[0;34m=\u001b[0m\u001b[0mvocab_size\u001b[0m\u001b[0;34m,\u001b[0m \u001b[0moutput_dim\u001b[0m\u001b[0;34m=\u001b[0m\u001b[0membed_size\u001b[0m\u001b[0;34m,\u001b[0m \u001b[0minput_length\u001b[0m\u001b[0;34m=\u001b[0m\u001b[0mwindow_size\u001b[0m\u001b[0;34m*\u001b[0m\u001b[0;36m2\u001b[0m\u001b[0;34m)\u001b[0m\u001b[0;34m)\u001b[0m\u001b[0;34m\u001b[0m\u001b[0;34m\u001b[0m\u001b[0m\n\u001b[0m\u001b[1;32m      3\u001b[0m \u001b[0mcbow\u001b[0m\u001b[0;34m.\u001b[0m\u001b[0madd\u001b[0m\u001b[0;34m(\u001b[0m\u001b[0mLambda\u001b[0m\u001b[0;34m(\u001b[0m\u001b[0;32mlambda\u001b[0m \u001b[0mx\u001b[0m\u001b[0;34m:\u001b[0m \u001b[0mK\u001b[0m\u001b[0;34m.\u001b[0m\u001b[0mmean\u001b[0m\u001b[0;34m(\u001b[0m\u001b[0mx\u001b[0m\u001b[0;34m,\u001b[0m \u001b[0maxis\u001b[0m\u001b[0;34m=\u001b[0m\u001b[0;36m1\u001b[0m\u001b[0;34m)\u001b[0m\u001b[0;34m,\u001b[0m \u001b[0moutput_shape\u001b[0m\u001b[0;34m=\u001b[0m\u001b[0;34m(\u001b[0m\u001b[0membed_size\u001b[0m\u001b[0;34m,\u001b[0m\u001b[0;34m)\u001b[0m\u001b[0;34m)\u001b[0m\u001b[0;34m)\u001b[0m\u001b[0;34m\u001b[0m\u001b[0;34m\u001b[0m\u001b[0m\n\u001b[1;32m      4\u001b[0m \u001b[0mcbow\u001b[0m\u001b[0;34m.\u001b[0m\u001b[0madd\u001b[0m\u001b[0;34m(\u001b[0m\u001b[0mDense\u001b[0m\u001b[0;34m(\u001b[0m\u001b[0mvocab_size\u001b[0m\u001b[0;34m,\u001b[0m \u001b[0mactivation\u001b[0m\u001b[0;34m=\u001b[0m\u001b[0;34m'softmax'\u001b[0m\u001b[0;34m)\u001b[0m\u001b[0;34m)\u001b[0m\u001b[0;34m\u001b[0m\u001b[0;34m\u001b[0m\u001b[0m\n\u001b[1;32m      5\u001b[0m \u001b[0mcbow\u001b[0m\u001b[0;34m.\u001b[0m\u001b[0mcompile\u001b[0m\u001b[0;34m(\u001b[0m\u001b[0mloss\u001b[0m\u001b[0;34m=\u001b[0m\u001b[0;34m'categorical_crossentropy'\u001b[0m\u001b[0;34m,\u001b[0m \u001b[0moptimizer\u001b[0m\u001b[0;34m=\u001b[0m\u001b[0;34m'rmsprop'\u001b[0m\u001b[0;34m)\u001b[0m\u001b[0;34m\u001b[0m\u001b[0;34m\u001b[0m\u001b[0m\n",
            "\u001b[0;31mNameError\u001b[0m: name 'vocab_size' is not defined"
          ]
        }
      ]
    },
    {
      "cell_type": "code",
      "metadata": {
        "id": "d3WS8anPe2Ow",
        "colab_type": "code",
        "colab": {}
      },
      "source": [
        "# Visualize model structure\n",
        "from IPython.display import SVG\n",
        "from tensorflow.keras.utils import model_to_dot\n",
        "\n",
        "SVG(model_to_dot(cbow, show_shapes=True, show_layer_names=False, dpi=65,\n",
        "                 rankdir='TB').create(prog='dot', format='svg'))"
      ],
      "execution_count": 0,
      "outputs": []
    },
    {
      "cell_type": "code",
      "metadata": {
        "id": "LHVzCLjpzVas",
        "colab_type": "code",
        "colab": {}
      },
      "source": [
        ""
      ],
      "execution_count": 0,
      "outputs": []
    },
    {
      "cell_type": "code",
      "metadata": {
        "id": "enIvj4p8y3J1",
        "colab_type": "code",
        "colab": {}
      },
      "source": [
        "tf.keras.models.save_model(\n",
        "    cbow,\n",
        "    CBOW_dir+'model',\n",
        "    overwrite=True,\n",
        "    include_optimizer=True,\n",
        "    save_format=None,\n",
        "    signatures=None,\n",
        "    options=None\n",
        ")"
      ],
      "execution_count": 0,
      "outputs": []
    },
    {
      "cell_type": "code",
      "metadata": {
        "id": "Vgfb0A03qPls",
        "colab_type": "code",
        "colab": {}
      },
      "source": [
        "from google.colab import drive\n",
        "drive.mount('/content/drive')"
      ],
      "execution_count": 0,
      "outputs": []
    },
    {
      "cell_type": "markdown",
      "metadata": {
        "id": "U9cPTmdwSu6g",
        "colab_type": "text"
      },
      "source": [
        "## 4. Train the model"
      ]
    },
    {
      "cell_type": "markdown",
      "metadata": {
        "id": "KqTCJsLtWeIT",
        "colab_type": "text"
      },
      "source": [
        "https://www.tensorflow.org/tutorials/keras/save_and_load"
      ]
    },
    {
      "cell_type": "markdown",
      "metadata": {
        "id": "WgsHXrjCSZRe",
        "colab_type": "text"
      },
      "source": [
        "### Save checkpoints during training"
      ]
    },
    {
      "cell_type": "code",
      "metadata": {
        "id": "7YP0vlxtSgbh",
        "colab_type": "code",
        "colab": {}
      },
      "source": [
        "checkpoint_path = os.path.join(CBOW_dir, 'training_1/cp.ckpt')\n",
        "checkpoint_dir = os.path.dirname(checkpoint_path)\n",
        "\n",
        "# Create a callback that saves the model's weights\n",
        "cp_callback = tf.keras.callbacks.ModelCheckpoint(filepath=checkpoint_path,\n",
        "                                                 save_weights_only=True,\n",
        "                                                 verbose=1)"
      ],
      "execution_count": 0,
      "outputs": []
    },
    {
      "cell_type": "markdown",
      "metadata": {
        "id": "zfx68G3ESj1O",
        "colab_type": "text"
      },
      "source": [
        "### Actually train"
      ]
    },
    {
      "cell_type": "code",
      "metadata": {
        "id": "pnoGU5EKSx9I",
        "colab_type": "code",
        "outputId": "e77b400a-d107-41d3-8f65-05f058f2c457",
        "colab": {
          "base_uri": "https://localhost:8080/",
          "height": 319
        }
      },
      "source": [
        "for epoch in range(1, 6):\n",
        "  loss = 0.\n",
        "  i = 0\n",
        "  for x, y in generate_context_word_pairs(corpus=wids, window_size=window_size, vocab_size=vocab_size):\n",
        "    i += 1\n",
        "    loss += cbow.fit(x, y, epochs=1, callbacks=[cp_callback])  # Pass callback to training\n",
        "    if i % 10000 == 0:\n",
        "      print('Processed {} (context, word) pairs'.format(i))\n",
        "\n",
        "  print('Epoch:', epoch, '\\tLoss:', loss)\n",
        "  print()"
      ],
      "execution_count": 0,
      "outputs": [
        {
          "output_type": "stream",
          "text": [
            "Train on 1 samples\n",
            "\n",
            "Epoch 00001: saving model to gdrive/My Drive/metaphors/models/CBOW/training_1/cp.ckpt\n",
            "1/1 [==============================] - 7s 7s/sample - loss: 13.4880\n"
          ],
          "name": "stdout"
        },
        {
          "output_type": "error",
          "ename": "TypeError",
          "evalue": "ignored",
          "traceback": [
            "\u001b[0;31m---------------------------------------------------------------------------\u001b[0m",
            "\u001b[0;31mTypeError\u001b[0m                                 Traceback (most recent call last)",
            "\u001b[0;32m<ipython-input-33-88c16918c6f9>\u001b[0m in \u001b[0;36m<module>\u001b[0;34m()\u001b[0m\n\u001b[1;32m      4\u001b[0m   \u001b[0;32mfor\u001b[0m \u001b[0mx\u001b[0m\u001b[0;34m,\u001b[0m \u001b[0my\u001b[0m \u001b[0;32min\u001b[0m \u001b[0mgenerate_context_word_pairs\u001b[0m\u001b[0;34m(\u001b[0m\u001b[0mcorpus\u001b[0m\u001b[0;34m=\u001b[0m\u001b[0mwids\u001b[0m\u001b[0;34m,\u001b[0m \u001b[0mwindow_size\u001b[0m\u001b[0;34m=\u001b[0m\u001b[0mwindow_size\u001b[0m\u001b[0;34m,\u001b[0m \u001b[0mvocab_size\u001b[0m\u001b[0;34m=\u001b[0m\u001b[0mvocab_size\u001b[0m\u001b[0;34m)\u001b[0m\u001b[0;34m:\u001b[0m\u001b[0;34m\u001b[0m\u001b[0;34m\u001b[0m\u001b[0m\n\u001b[1;32m      5\u001b[0m     \u001b[0mi\u001b[0m \u001b[0;34m+=\u001b[0m \u001b[0;36m1\u001b[0m\u001b[0;34m\u001b[0m\u001b[0;34m\u001b[0m\u001b[0m\n\u001b[0;32m----> 6\u001b[0;31m     \u001b[0mloss\u001b[0m \u001b[0;34m+=\u001b[0m \u001b[0mcbow\u001b[0m\u001b[0;34m.\u001b[0m\u001b[0mfit\u001b[0m\u001b[0;34m(\u001b[0m\u001b[0mx\u001b[0m\u001b[0;34m,\u001b[0m \u001b[0my\u001b[0m\u001b[0;34m,\u001b[0m \u001b[0mepochs\u001b[0m\u001b[0;34m=\u001b[0m\u001b[0;36m1\u001b[0m\u001b[0;34m,\u001b[0m \u001b[0mcallbacks\u001b[0m\u001b[0;34m=\u001b[0m\u001b[0;34m[\u001b[0m\u001b[0mcp_callback\u001b[0m\u001b[0;34m]\u001b[0m\u001b[0;34m)\u001b[0m  \u001b[0;31m# Pass callback to training\u001b[0m\u001b[0;34m\u001b[0m\u001b[0;34m\u001b[0m\u001b[0m\n\u001b[0m\u001b[1;32m      7\u001b[0m     \u001b[0;32mif\u001b[0m \u001b[0mi\u001b[0m \u001b[0;34m%\u001b[0m \u001b[0;36m10000\u001b[0m \u001b[0;34m==\u001b[0m \u001b[0;36m0\u001b[0m\u001b[0;34m:\u001b[0m\u001b[0;34m\u001b[0m\u001b[0;34m\u001b[0m\u001b[0m\n\u001b[1;32m      8\u001b[0m       \u001b[0mprint\u001b[0m\u001b[0;34m(\u001b[0m\u001b[0;34m'Processed {} (context, word) pairs'\u001b[0m\u001b[0;34m.\u001b[0m\u001b[0mformat\u001b[0m\u001b[0;34m(\u001b[0m\u001b[0mi\u001b[0m\u001b[0;34m)\u001b[0m\u001b[0;34m)\u001b[0m\u001b[0;34m\u001b[0m\u001b[0;34m\u001b[0m\u001b[0m\n",
            "\u001b[0;31mTypeError\u001b[0m: unsupported operand type(s) for +=: 'float' and 'History'"
          ]
        }
      ]
    },
    {
      "cell_type": "code",
      "metadata": {
        "id": "HzddYtPoi1sJ",
        "colab_type": "code",
        "outputId": "c624ad48-758c-4e40-977c-be12a3a2a81a",
        "colab": {
          "base_uri": "https://localhost:8080/",
          "height": 231
        }
      },
      "source": [
        "from tensorflow.keras.models import save_model\n",
        "\n",
        "filepath = os.path.join(CBOW_dir, 'cbow.tf')\n",
        "\n",
        "models.save_model(\n",
        "    cbow,\n",
        "    filepath,\n",
        "    overwrite=True,\n",
        "    include_optimizer=True,\n",
        "    save_format=None,\n",
        "    signatures=None,\n",
        "    options=None\n",
        ")"
      ],
      "execution_count": 0,
      "outputs": [
        {
          "output_type": "error",
          "ename": "NameError",
          "evalue": "ignored",
          "traceback": [
            "\u001b[0;31m---------------------------------------------------------------------------\u001b[0m",
            "\u001b[0;31mNameError\u001b[0m                                 Traceback (most recent call last)",
            "\u001b[0;32m<ipython-input-31-5df137a5cc18>\u001b[0m in \u001b[0;36m<module>\u001b[0;34m()\u001b[0m\n\u001b[1;32m      3\u001b[0m \u001b[0mfilepath\u001b[0m \u001b[0;34m=\u001b[0m \u001b[0mos\u001b[0m\u001b[0;34m.\u001b[0m\u001b[0mpath\u001b[0m\u001b[0;34m.\u001b[0m\u001b[0mjoin\u001b[0m\u001b[0;34m(\u001b[0m\u001b[0mCBOW_dir\u001b[0m\u001b[0;34m,\u001b[0m \u001b[0;34m'cbow.tf'\u001b[0m\u001b[0;34m)\u001b[0m\u001b[0;34m\u001b[0m\u001b[0;34m\u001b[0m\u001b[0m\n\u001b[1;32m      4\u001b[0m \u001b[0;34m\u001b[0m\u001b[0m\n\u001b[0;32m----> 5\u001b[0;31m models.save_model(\n\u001b[0m\u001b[1;32m      6\u001b[0m     \u001b[0mcbow\u001b[0m\u001b[0;34m,\u001b[0m\u001b[0;34m\u001b[0m\u001b[0;34m\u001b[0m\u001b[0m\n\u001b[1;32m      7\u001b[0m     \u001b[0mfilepath\u001b[0m\u001b[0;34m,\u001b[0m\u001b[0;34m\u001b[0m\u001b[0;34m\u001b[0m\u001b[0m\n",
            "\u001b[0;31mNameError\u001b[0m: name 'models' is not defined"
          ]
        }
      ]
    },
    {
      "cell_type": "code",
      "metadata": {
        "id": "NmcCDr3vRVdC",
        "colab_type": "code",
        "outputId": "61afc927-ba1f-4e97-dd35-147e96881302",
        "colab": {
          "base_uri": "https://localhost:8080/",
          "height": 231
        }
      },
      "source": [
        "\n",
        "\n",
        "# Train the model with the new callback\n",
        "model.fit(train_images, \n",
        "          train_labels,  \n",
        "          epochs=10,\n",
        "          validation_data=(test_images,test_labels),\n",
        "          callbacks=[cp_callback])  # Pass callback to training"
      ],
      "execution_count": 0,
      "outputs": [
        {
          "output_type": "error",
          "ename": "NameError",
          "evalue": "ignored",
          "traceback": [
            "\u001b[0;31m---------------------------------------------------------------------------\u001b[0m",
            "\u001b[0;31mNameError\u001b[0m                                 Traceback (most recent call last)",
            "\u001b[0;32m<ipython-input-32-9dfa76bac47d>\u001b[0m in \u001b[0;36m<module>\u001b[0;34m()\u001b[0m\n\u001b[0;32m----> 1\u001b[0;31m model.fit(train_images, \n\u001b[0m\u001b[1;32m      2\u001b[0m           \u001b[0mtrain_labels\u001b[0m\u001b[0;34m,\u001b[0m\u001b[0;34m\u001b[0m\u001b[0;34m\u001b[0m\u001b[0m\n\u001b[1;32m      3\u001b[0m           \u001b[0mepochs\u001b[0m\u001b[0;34m=\u001b[0m\u001b[0;36m10\u001b[0m\u001b[0;34m,\u001b[0m\u001b[0;34m\u001b[0m\u001b[0;34m\u001b[0m\u001b[0m\n\u001b[1;32m      4\u001b[0m           \u001b[0mvalidation_data\u001b[0m\u001b[0;34m=\u001b[0m\u001b[0;34m(\u001b[0m\u001b[0mtest_images\u001b[0m\u001b[0;34m,\u001b[0m\u001b[0mtest_labels\u001b[0m\u001b[0;34m)\u001b[0m\u001b[0;34m,\u001b[0m\u001b[0;34m\u001b[0m\u001b[0;34m\u001b[0m\u001b[0m\n\u001b[1;32m      5\u001b[0m           callbacks=[cp_callback])  # Pass callback to training\n",
            "\u001b[0;31mNameError\u001b[0m: name 'model' is not defined"
          ]
        }
      ]
    },
    {
      "cell_type": "markdown",
      "metadata": {
        "id": "NgyjV016Syn4",
        "colab_type": "text"
      },
      "source": [
        "## 5. Get word embeddings"
      ]
    },
    {
      "cell_type": "code",
      "metadata": {
        "id": "uedmmA86S1Cs",
        "colab_type": "code",
        "colab": {}
      },
      "source": [
        "weights = cbow.get_weights()[0]\n",
        "weights = weights[1:]\n",
        "print(weights.shape)\n",
        "\n",
        "pd.DataFrame(weights, index=list(id2word.values())[1:]).head()"
      ],
      "execution_count": 0,
      "outputs": []
    },
    {
      "cell_type": "code",
      "metadata": {
        "id": "JRjsvIJ_uCmm",
        "colab_type": "code",
        "colab": {}
      },
      "source": [
        "from sklearn.metrics.pairwise import euclidean_distances\n",
        "\n",
        "# compute pairwise distance matrix\n",
        "distance_matrix = euclidean_distances(weights)\n",
        "print(distance_matrix.shape)\n",
        "\n",
        "# view contextually similar words\n",
        "similar_words = {search_term: [id2word[idx] for idx in distance_matrix[word2id[search_term]-1].argsort()[1:6]+1] \n",
        "                   for search_term in ['god', 'jesus', 'noah', 'egypt', 'john', 'gospel', 'moses','famine']}\n",
        "\n",
        "similar_words"
      ],
      "execution_count": 0,
      "outputs": []
    }
  ]
}