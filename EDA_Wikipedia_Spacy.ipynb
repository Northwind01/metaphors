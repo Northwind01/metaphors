{
 "cells": [
  {
   "cell_type": "markdown",
   "metadata": {},
   "source": [
    "# EDA on Wikipedia using Spacy"
   ]
  },
  {
   "cell_type": "markdown",
   "metadata": {},
   "source": [
    "https://www.kdnuggets.com/2017/11/building-wikipedia-text-corpus-nlp.html"
   ]
  },
  {
   "cell_type": "markdown",
   "metadata": {},
   "source": [
    "## 1. Import"
   ]
  },
  {
   "cell_type": "code",
   "execution_count": 1,
   "metadata": {},
   "outputs": [
    {
     "name": "stderr",
     "output_type": "stream",
     "text": [
      "C:\\Users\\EPEAFF1\\AppData\\Local\\Continuum\\anaconda3\\envs\\jupyter\\lib\\site-packages\\gensim\\utils.py:1197: UserWarning: detected Windows; aliasing chunkize to chunkize_serial\n",
      "  warnings.warn(\"detected Windows; aliasing chunkize to chunkize_serial\")\n"
     ]
    }
   ],
   "source": [
    "# Creates a corpus from Wikipedia dump file.\n",
    "\n",
    "import sys\n",
    "from gensim.corpora import WikiCorpus\n",
    "\n",
    "def make_corpus(in_f, out_f): # Convert Wikipedia xml dump file to text corpus\n",
    "    output = open(out_f, 'w')\n",
    "    wiki = WikiCorpus(in_f)\n",
    "\n",
    "    i = 0\n",
    "    for text in wiki.get_texts():\n",
    "        output.write(bytes(' '.join(text), 'utf-8').decode('utf-8') + '\\n')\n",
    "        i = i + 1\n",
    "        if (i % 10000 == 0):\n",
    "            print('Processed ' + str(i) + ' articles')\n",
    "    output.close()\n",
    "    print('Processing complete!')"
   ]
  },
  {
   "cell_type": "code",
   "execution_count": null,
   "metadata": {},
   "outputs": [],
   "source": [
    "make_corpus('data/enwiki-latest-pages-articles.xml.bz2', 'data/wiki_en.txt')"
   ]
  },
  {
   "cell_type": "markdown",
   "metadata": {},
   "source": [
    "After several hours, the above code leaves me with a corpus file named wiki_en.txt."
   ]
  },
  {
   "cell_type": "code",
   "execution_count": null,
   "metadata": {},
   "outputs": [],
   "source": [
    "# Checks a corpus created from a Wikipedia dump file.\n",
    "def check_corpus(input_file):\n",
    "    \n",
    "    \"\"\"Reads some lines of corpus from text file\"\"\"\n",
    "\n",
    "    while(1):\n",
    "        for lines in range(50):\n",
    "            print(input_file.readline())\n",
    "        user_input = input('>>> Type \\'STOP\\' to quit or hit Enter key for more <<< ')\n",
    "        if user_input == 'STOP':\n",
    "            break\n",
    "\n",
    "# Loands the corpus into memory.\n",
    "def load_corpus(input_file):\n",
    "\n",
    "    \"\"\"Loads corpus from text file\"\"\"\n",
    "\n",
    "    print('Loading corpus...')\n",
    "    time1 = time.time()\n",
    "    corpus = input_file.read()\n",
    "    time2 = time.time()\n",
    "    total_time = time2-time1\n",
    "    print('It took %0.3f seconds to load corpus' %total_time)\n",
    "    return corpus"
   ]
  },
  {
   "cell_type": "code",
   "execution_count": null,
   "metadata": {},
   "outputs": [],
   "source": [
    "corpus_file = open(sys.argv[1],'r')\n",
    "check_corpus(corpus_file)\n",
    "corpus = load_corpus(corpus_file)"
   ]
  },
  {
   "cell_type": "code",
   "execution_count": null,
   "metadata": {},
   "outputs": [],
   "source": []
  },
  {
   "cell_type": "markdown",
   "metadata": {},
   "source": [
    "## Sentense & word lenghths "
   ]
  },
  {
   "cell_type": "code",
   "execution_count": null,
   "metadata": {},
   "outputs": [],
   "source": []
  },
  {
   "cell_type": "code",
   "execution_count": null,
   "metadata": {},
   "outputs": [],
   "source": []
  },
  {
   "cell_type": "code",
   "execution_count": null,
   "metadata": {},
   "outputs": [],
   "source": []
  }
 ],
 "metadata": {
  "kernelspec": {
   "display_name": "Python 3",
   "language": "python",
   "name": "python3"
  },
  "language_info": {
   "codemirror_mode": {
    "name": "ipython",
    "version": 3
   },
   "file_extension": ".py",
   "mimetype": "text/x-python",
   "name": "python",
   "nbconvert_exporter": "python",
   "pygments_lexer": "ipython3",
   "version": "3.6.7"
  }
 },
 "nbformat": 4,
 "nbformat_minor": 2
}
