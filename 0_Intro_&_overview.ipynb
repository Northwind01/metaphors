{
  "nbformat": 4,
  "nbformat_minor": 0,
  "metadata": {
    "colab": {
      "name": "0. Intro & overview ",
      "provenance": [],
      "include_colab_link": true
    },
    "kernelspec": {
      "name": "python3",
      "display_name": "Python 3"
    }
  },
  "cells": [
    {
      "cell_type": "markdown",
      "metadata": {
        "id": "view-in-github",
        "colab_type": "text"
      },
      "source": [
        "<a href=\"https://colab.research.google.com/github/Northwind01/metaphors/blob/master/0_Intro_%26_overview.ipynb\" target=\"_parent\"><img src=\"https://colab.research.google.com/assets/colab-badge.svg\" alt=\"Open In Colab\"/></a>"
      ]
    },
    {
      "cell_type": "markdown",
      "metadata": {
        "id": "Oe4tygp4CEdD",
        "colab_type": "text"
      },
      "source": [
        "# Introduction and overview of the project"
      ]
    },
    {
      "cell_type": "markdown",
      "metadata": {
        "id": "ghT5VcSKCN0k",
        "colab_type": "text"
      },
      "source": [
        "## 0. Core motivation"
      ]
    },
    {
      "cell_type": "markdown",
      "metadata": {
        "id": "cVDI5TQBCSgS",
        "colab_type": "text"
      },
      "source": [
        "It is all about the cognitive leap: what does it mean to **suddenly *understand* something** and how humans connect the dots.\n",
        "When I learn new things (a new for me field of knowledge) I examine it as follows:\n",
        "1.\t**What is it about?** – Of course, **in relations** to things I know\n",
        "2.\t**What is it like?** – Is it **similar** in structure and/or behavior to things I know\n",
        "3.\t**How is it different?** – How is it **special**, what are its own laws and structures\n",
        "\n",
        "And so metaphors appear to me as an extremely helpful tool for step 2: grasping certain features of a new domain in terms a well-known domain.\n",
        "The purpose of this research is creating a model trained on large corpus of structurally rich data (I start with Wikipedia), which **gets input like “having an argument” and produces an output “is like fighting a battle”**. The result will be based on similarities in the domains' structure (dependencies) and behavior of their subjects (verbs)."
      ]
    },
    {
      "cell_type": "code",
      "metadata": {
        "id": "wEgVdWQyCLWc",
        "colab_type": "code",
        "colab": {}
      },
      "source": [
        ""
      ],
      "execution_count": 0,
      "outputs": []
    }
  ]
}